{
  "nbformat": 4,
  "nbformat_minor": 0,
  "metadata": {
    "colab": {
      "provenance": []
    },
    "kernelspec": {
      "name": "python3",
      "display_name": "Python 3"
    },
    "language_info": {
      "name": "python"
    }
  },
  "cells": [
    {
      "cell_type": "code",
      "execution_count": 3,
      "metadata": {
        "colab": {
          "base_uri": "https://localhost:8080/",
          "height": 70
        },
        "id": "-cIA4E0Q9US2",
        "outputId": "0e9c9925-113a-46cc-df41-7fc7c9aa16ac"
      },
      "outputs": [
        {
          "output_type": "execute_result",
          "data": {
            "text/plain": [
              "\"solution -\\n*       -> This is a mathematical operator (multiplication).\\n'hello' -> This is a value, specifically a string.\\n-87.8   -> This is a value, specifically a floating-point number.\\n-       -> This is a mathematical operator (subtraction).\\n/       -> This is a mathematical operator (division).\\n+       -> This is a mathematical operator (addition).\\n6       -> This is a value, specifically an integer.\\n\\nHence\\nValues: 'hello', -87.8, 6\\nExpressions (Mathematical Operators): *, -, /, + \""
            ],
            "application/vnd.google.colaboratory.intrinsic+json": {
              "type": "string"
            }
          },
          "metadata": {},
          "execution_count": 3
        }
      ],
      "source": [
        "'''1. In the below elements which of them are values or an expression? eg:- values can be\n",
        "integer or string and expressions will be mathematical operators.\n",
        "*\n",
        "'hello'\n",
        "-87.8\n",
        "-\n",
        "/\n",
        "+\n",
        "6'''\n",
        "\n",
        "'''solution -\n",
        "*       -> This is a mathematical operator (multiplication).\n",
        "'hello' -> This is a value, specifically a string.\n",
        "-87.8   -> This is a value, specifically a floating-point number.\n",
        "-       -> This is a mathematical operator (subtraction).\n",
        "/       -> This is a mathematical operator (division).\n",
        "+       -> This is a mathematical operator (addition).\n",
        "6       -> This is a value, specifically an integer.\n",
        "\n",
        "Hence\n",
        "Values: 'hello', -87.8, 6\n",
        "Expressions (Mathematical Operators): *, -, /, + '''"
      ]
    },
    {
      "cell_type": "code",
      "source": [
        "'''2. What is the difference between string and variable?\n",
        "\n",
        "solution :\n",
        "VARIABLE -> In python , a variable is a named location used to store data in memory.We can assign any data type to a variable.\n",
        "STRING -> A string is a data type that represents a sequence of characters.Strings are enclosed in single (') or double (\") quotes.\n",
        "\n",
        "examples -'''\n",
        "name = \"Mayuri\"\n",
        "my_string = 25\n",
        "'''In these examples, name and my_string are variables. name is assigned the string value 'Mayuri', and my_string is assigned to the integer value 25.'''\n",
        "\n",
        "'''lets see the differeance'''\n",
        "a = \"10\"\n",
        "b = \"20\"\n",
        "print(a+b)\n",
        "'''prints 1020'''\n",
        "\n",
        "c = 10\n",
        "d = 20\n",
        "print(c+d)\n",
        "'''prints 30'''\n",
        "'''So, in the above example, (a+b) returns 1020 in the first case (string concatenation of 10 and 20),\n",
        "whereas in the second case, it returns (c+d) as 30 since it interprets c and d as integers at run-time.'''"
      ],
      "metadata": {
        "colab": {
          "base_uri": "https://localhost:8080/",
          "height": 88
        },
        "id": "2kpgfg1v-8jO",
        "outputId": "08f720e8-14e4-4e1e-f38c-a812849c7571"
      },
      "execution_count": 9,
      "outputs": [
        {
          "output_type": "stream",
          "name": "stdout",
          "text": [
            "1020\n",
            "30\n"
          ]
        },
        {
          "output_type": "execute_result",
          "data": {
            "text/plain": [
              "'So, in the above example, (a+b) returns 1020 in the first case (string concatenation of 10 and 20), whereas in the second case, it returns (c+d) as 30 since it interprets c and d as integers at run-time.'"
            ],
            "application/vnd.google.colaboratory.intrinsic+json": {
              "type": "string"
            }
          },
          "metadata": {},
          "execution_count": 9
        }
      ]
    },
    {
      "cell_type": "code",
      "source": [
        "'''3. Describe three different data types.\n",
        "solution:\n",
        "The fundamental data types in Python are:\n",
        "1.Integer 'int' : Represents whole numbers, both positive and negative\n",
        "2.Float 'float' : Represents floating-point numbers, which include decimal values.\n",
        "3.String (str)  : Represents sequences of characters (text). They can be created using either single quotes (') or double quotes (\")\n",
        "\n",
        "examples -'''\n",
        "my_interger = 16,45,80\n",
        "my_float = 3.14,8.35,96.25\n",
        "my_string = 'Ineuron','56','Simran','101 Rahul'\n",
        "print(my_interger,my_float,my_string)"
      ],
      "metadata": {
        "colab": {
          "base_uri": "https://localhost:8080/",
          "height": 0
        },
        "id": "tjDsBJS8gFwH",
        "outputId": "f4d7a138-097f-4008-e6e8-984a28ea0a71"
      },
      "execution_count": 17,
      "outputs": [
        {
          "output_type": "stream",
          "name": "stdout",
          "text": [
            "(16, 45, 80) (3.14, 8.35, 96.25) ('Ineuron', '56', 'Simran', '101 Rahul')\n"
          ]
        }
      ]
    },
    {
      "cell_type": "code",
      "source": [
        "'''4. What is an expression made up of? What do all expressions do?'''\n",
        "\n",
        "'''Solution:\n",
        "An expression in programming is made up of a combination of values, variables, operators, and function calls that, when evaluated, results in a single value.\n",
        "Expressions can be simple or complex, involving mathematical operations, logical operations, or other transformations.\n",
        "The basic components that make up an expression are Values, Variables,opeartors,function call , Parentheses.\n",
        "When an expression is evaluated, the components are processed according to the rules of the programming language, and a resulting value is produced.'''\n",
        "\n",
        "# Example: Arithmetic Expression , The line result = 2 + 3 * 4 demonstrates an arithmetic expression. The expression involves addition (+) and multiplication (*) operators.\n",
        "# The result is calculated based on the order of operations, resulting in 14, which is then assigned to the variable result.\n",
        "result = 2 + 3 * 4\n",
        "print(result)"
      ],
      "metadata": {
        "colab": {
          "base_uri": "https://localhost:8080/",
          "height": 0
        },
        "id": "wZLtv2zGmJS6",
        "outputId": "94a36261-b6c6-4974-d7f5-70ad6bf7c95a"
      },
      "execution_count": 5,
      "outputs": [
        {
          "output_type": "stream",
          "name": "stdout",
          "text": [
            "14\n"
          ]
        }
      ]
    },
    {
      "cell_type": "code",
      "source": [
        "'''5. This assignment statements, like spam = 10. What is the difference between an expression and a statement?'''\n",
        "'''solution :\n",
        "Expressions are components that can be evaluated to produce a value, while statements are complete units of code that perform actions or control the flow of a program and they never return a value.\n",
        "In the question provided (spam = 10), it is a statement. It assigns the value 10 to the variable spam. This line of code is a complete instruction or action in the program.'''\n",
        "spam = 10  # Assignment statement (not an expression)\n",
        "spam1 = 10+1  #two operands with + operation hence this is an expression which provides value\n"
      ],
      "metadata": {
        "id": "pj0yq1h3-Zpm"
      },
      "execution_count": 7,
      "outputs": []
    },
    {
      "cell_type": "code",
      "source": [
        "'''6.After running the following code, what does the variable bacon contain?\n",
        "bacon = 22\n",
        "bacon + 1'''\n",
        "# Solution:\n",
        "bacon = 22\n",
        "bacon + 1 #bacon variable would cantain value 23"
      ],
      "metadata": {
        "colab": {
          "base_uri": "https://localhost:8080/"
        },
        "id": "7J3NtGScWhMq",
        "outputId": "cb126fd9-143b-4769-cc22-d636e15236a2"
      },
      "execution_count": 10,
      "outputs": [
        {
          "output_type": "execute_result",
          "data": {
            "text/plain": [
              "23"
            ]
          },
          "metadata": {},
          "execution_count": 10
        }
      ]
    },
    {
      "cell_type": "code",
      "source": [
        "'''7. What should the values of the following two terms be?\n",
        "'spam' + 'spamspam'\n",
        "'spam' * 3'''\n",
        "\n",
        "# Solution:\n",
        "'spam' + 'spamspam'"
      ],
      "metadata": {
        "colab": {
          "base_uri": "https://localhost:8080/",
          "height": 36
        },
        "id": "P81jfWmHXMRE",
        "outputId": "48011f7c-ced6-4f70-aacd-795e8b53585d"
      },
      "execution_count": 14,
      "outputs": [
        {
          "output_type": "execute_result",
          "data": {
            "text/plain": [
              "'spamspamspam'"
            ],
            "application/vnd.google.colaboratory.intrinsic+json": {
              "type": "string"
            }
          },
          "metadata": {},
          "execution_count": 14
        }
      ]
    },
    {
      "cell_type": "code",
      "source": [
        "'spam' * 3\n",
        "# Both expressions evaluate to the string 'spamspamspam'"
      ],
      "metadata": {
        "colab": {
          "base_uri": "https://localhost:8080/",
          "height": 36
        },
        "id": "n2_1q7i5Xvy6",
        "outputId": "69d76dd6-9b98-4c49-8581-ddafaa1c6c65"
      },
      "execution_count": 17,
      "outputs": [
        {
          "output_type": "execute_result",
          "data": {
            "text/plain": [
              "'spamspamspam'"
            ],
            "application/vnd.google.colaboratory.intrinsic+json": {
              "type": "string"
            }
          },
          "metadata": {},
          "execution_count": 17
        }
      ]
    },
    {
      "cell_type": "code",
      "source": [
        "# 8. Why is eggs a valid variable name while 100 is invalid?\n",
        "# Solution:\n",
        "'''In Python, variable names must adhere to certain rules and conventions\n",
        "\n",
        "* A variable name must start with a letter or the underscore character.\n",
        "* A variable name cannot start with a number.\n",
        "* A variable name can only contain alpha-numeric characters and underscores (A-z, 0-9, and _ ),no other special symbol can be used in a variable name.\n",
        "* Variable names are case-sensitive'''\n",
        "\n",
        "# eggs is a valid variable name because it starts with a letter (e) and only contains letters.\n",
        "\n",
        "# 100 is invalid because it starts with a number. Variable names must start with a letter or an underscore. a100,_100 is valid but 100 isn't\n",
        "\n",
        "eggs = \"eggs is valid variable\"\n",
        "print(eggs)\n",
        "\n",
        "_100 = 78\n",
        "print(_100)"
      ],
      "metadata": {
        "colab": {
          "base_uri": "https://localhost:8080/"
        },
        "id": "YKIzwXQyX7EL",
        "outputId": "6816a572-e551-4b03-b592-c6c6f1a1cba2"
      },
      "execution_count": 27,
      "outputs": [
        {
          "output_type": "stream",
          "name": "stdout",
          "text": [
            "eggs is valid variable\n",
            "78\n"
          ]
        }
      ]
    },
    {
      "cell_type": "code",
      "source": [
        "# 9. What three functions can be used to get the integer, floating-point number, or string version of a value?\n",
        "# Solution:\n",
        "'''int(): Converts the given value to an integer. If the value is a floating-point number, it truncates the decimal part.\n",
        "\n",
        "float(): Converts the given value to a floating-point number. If the value is an integer, it adds a decimal point and a zero as the decimal part.\n",
        "\n",
        "str(): Converts the given value to a string. It creates a string representation of the value.'''\n",
        "\n",
        "value1 = 10.5\n",
        "integer_value = int(value1)\n",
        "print(integer_value)\n",
        "\n",
        "value2 = 5\n",
        "float_value = float(value2)\n",
        "print(float_value)\n",
        "\n",
        "value3 = 426\n",
        "string_value = str(value3)\n",
        "print(string_value)"
      ],
      "metadata": {
        "colab": {
          "base_uri": "https://localhost:8080/"
        },
        "id": "UYbb5eUWY_3x",
        "outputId": "8ec4fc68-3ee0-4d57-efd3-cf392bb6a5ed"
      },
      "execution_count": 38,
      "outputs": [
        {
          "output_type": "stream",
          "name": "stdout",
          "text": [
            "10\n",
            "5.0\n",
            "426\n"
          ]
        }
      ]
    },
    {
      "cell_type": "code",
      "source": [
        "''' 10. Why does this expression cause an error? How can you fix it?\n",
        "'I have eaten ' + 99 + ' burritos.'\n",
        "Solution:\n",
        "The expression causes an error because 99 is an integer, and only strings can be concatenated to other strings with the + operator.\n",
        "The correct way is '''\n",
        "'I have eaten ' + str(99) + ' burritos.'\n"
      ],
      "metadata": {
        "colab": {
          "base_uri": "https://localhost:8080/",
          "height": 36
        },
        "id": "cyhagMo1dUfZ",
        "outputId": "382be650-019c-4321-e638-3d89b7ca3857"
      },
      "execution_count": 42,
      "outputs": [
        {
          "output_type": "execute_result",
          "data": {
            "text/plain": [
              "'I have eaten 99 burritos.'"
            ],
            "application/vnd.google.colaboratory.intrinsic+json": {
              "type": "string"
            }
          },
          "metadata": {},
          "execution_count": 42
        }
      ]
    },
    {
      "cell_type": "code",
      "source": [],
      "metadata": {
        "id": "DBmrm2Jide6x"
      },
      "execution_count": null,
      "outputs": []
    }
  ]
}