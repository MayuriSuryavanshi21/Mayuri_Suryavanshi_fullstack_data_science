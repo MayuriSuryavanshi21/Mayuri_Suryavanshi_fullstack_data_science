{
  "nbformat": 4,
  "nbformat_minor": 0,
  "metadata": {
    "colab": {
      "provenance": []
    },
    "kernelspec": {
      "name": "python3",
      "display_name": "Python 3"
    },
    "language_info": {
      "name": "python"
    }
  },
  "cells": [
    {
      "cell_type": "code",
      "execution_count": null,
      "metadata": {
        "id": "iRF6juYES22y"
      },
      "outputs": [],
      "source": [
        "'''1. Why are functions advantageous to have in your programs?\n",
        "\n",
        "Functions are advantageous in programming in general for several reasons.\n",
        "Using functions in Python enhances code organization, promotes reusability, and improves readability, making your programs more modular and easier to maintain.\n",
        "\n",
        "Modularity: Functions allow you to break down a program into smaller, more manageable pieces.\n",
        "Each function can perform a specific task, making the overall codebase more modular and easier to understand.\n",
        "\n",
        "Reusability: Once you've defined a function, you can use it multiple times throughout your program.\n",
        "This promotes code reuse, reducing redundancy and making your code more efficient.\n",
        "\n",
        "Readability: Functions improve the readability of your code by providing a way to encapsulate and name specific tasks.\n",
        "Well-named functions make the code self-documenting and easier for others (or even yourself) to understand.\n",
        "\n",
        "Flexibility: Functions can take parameters, allowing you to customize their behavior based on input.\n",
        "This makes your code more flexible and adaptable to different situations.\n",
        "\n",
        "Code Organization: Functions contribute to a well-organized code structure.\n",
        "By grouping related functionality into functions, you can create a logical and hierarchical organization, making it easier to navigate and maintain your codebase.'''"
      ]
    },
    {
      "cell_type": "code",
      "source": [
        "'''2. When does the code in a function run: when it's specified or when it's called?\n",
        "The code in a function runs when the function is called, not when it is specified.\n",
        "Defining a function in Python merely creates a named block of code, but the code inside that block is executed only when the function is invoked.\n",
        "Here's a simple example:'''\n",
        "\n",
        "def my_function():\n",
        "    print(\"This code is inside the function.\")\n",
        "\n",
        "print(\"This code is outside the function.\")\n",
        "\n",
        "# Call the function to execute its code\n",
        "my_function()\n",
        "\n",
        "#The code inside the function (print(\"This code is inside the function.\")) is executed only when the function is called (my_function()).\n",
        "#The order of execution is determined by the sequence of function calls in the program.\n"
      ],
      "metadata": {
        "colab": {
          "base_uri": "https://localhost:8080/"
        },
        "id": "D-49IMkWWbZh",
        "outputId": "d201a1b1-689f-4dea-a763-ff756c8e3991"
      },
      "execution_count": null,
      "outputs": [
        {
          "output_type": "stream",
          "name": "stdout",
          "text": [
            "This code is outside the function.\n",
            "This code is inside the function.\n"
          ]
        }
      ]
    },
    {
      "cell_type": "code",
      "source": [
        "'''3. What statement creates a function?\n",
        "The def statement is used to create a function. The syntax for creating a function is as follows:\n",
        "def function_name(parameters):\n",
        "    # Function body\n",
        "    # Code to be executed when the function is called'''\n",
        "\n",
        "def greet(name):\n",
        "    print(\"Hello, \" + name + \"!,Welcome to Python World.\")\n",
        "\n",
        "# Call the function\n",
        "greet(\"Mayuri\")\n",
        "\n",
        "\n",
        "#The def statement creates a function named greet that takes one parameter (name).\n",
        "#The function body contains the code that will be executed when the function is called.\n",
        "#In this case, it prints a greeting message with the provided name. The function is then called with the argument \"Mayuri\"'''"
      ],
      "metadata": {
        "colab": {
          "base_uri": "https://localhost:8080/"
        },
        "id": "8f6TjM5HblZH",
        "outputId": "bf80594c-6d17-481e-e107-3fc552f685cb"
      },
      "execution_count": null,
      "outputs": [
        {
          "output_type": "stream",
          "name": "stdout",
          "text": [
            "Hello, Mayuri!,Welcome to Python World.\n"
          ]
        }
      ]
    },
    {
      "cell_type": "code",
      "source": [
        "'''4. What is the difference between a function and a function call?\n",
        "A function is a defined block of code, while a function call is the invocation of that code for execution with specific inputs.\n",
        "Functions are created to structure and organize code, and function calls are how we trigger the execution of that organized code.'''"
      ],
      "metadata": {
        "id": "ihefn-loep2g"
      },
      "execution_count": null,
      "outputs": []
    },
    {
      "cell_type": "code",
      "source": [
        "'''5. How many global scopes are there in a Python program? How many local scopes?\n",
        "Global Scope:\n",
        "There is only one global scope in a Python program.\n",
        "The global scope encompasses the entire program and is where variables and functions defined outside of any function or class reside.\n",
        "Variables and functions in the global scope can be accessed from any part of the program.\n",
        "\n",
        "Local Scopes:\n",
        "Local scopes are created when a function is called.\n",
        "Each function call has its own local scope, which is separate from the global scope.\n",
        "Variables defined inside a function are local to that function and are not directly accessible outside of it.\n",
        "When a function is called, a new local scope is created, and when the function execution completes, the local scope is destroyed.'''"
      ],
      "metadata": {
        "id": "1-Kauz8JfhY3"
      },
      "execution_count": null,
      "outputs": []
    },
    {
      "cell_type": "code",
      "source": [
        "'''6. What happens to variables in a local scope when the function call returns?\n",
        "When a function call returns in Python, the local scope associated with that function is destroyed.\n",
        "And the variables defined within that local scope go out of scope and are deleted.Any memory allocated to these variables is released.\n",
        "This means that the variables in the local scope are no longer accessible once the function execution completes.'''"
      ],
      "metadata": {
        "id": "NDPb2Z6uiNuf"
      },
      "execution_count": null,
      "outputs": []
    },
    {
      "cell_type": "code",
      "source": [
        "'''7. What is the concept of a return value? Is it possible to have a return value in an expression?\n",
        "Return value in programming refers to the value that a function sends back to the code that called it.\n",
        "When a function is executed, it can produce a result, and the return statement is used to specify that result.\n",
        "The return value is the output or outcome of the function, and it can be used in the calling code for further computation or processing.\n",
        "\n",
        "Yes, it is possible to use a return value in an expression.The return value of a function can be assigned to a variable or used directly in expressions for further computation.\n",
        "example where the return value is used directly in an expression:'''\n",
        "def square_number(x):\n",
        "    return x ** 2\n",
        "\n",
        "# Using the return value in an expression\n",
        "result = square_number(9) + 19\n",
        "print(result)"
      ],
      "metadata": {
        "colab": {
          "base_uri": "https://localhost:8080/"
        },
        "id": "NDKkzV6AJ6VG",
        "outputId": "41ab243d-03e6-4aaa-e3b6-c29e561fa0c4"
      },
      "execution_count": null,
      "outputs": [
        {
          "output_type": "stream",
          "name": "stdout",
          "text": [
            "100\n"
          ]
        }
      ]
    },
    {
      "cell_type": "code",
      "source": [
        "'''8. If a function does not have a return statement, what is the return value of a call to that function?\n",
        "If a function in Python does not have a return statement, or if it has a return statement without an accompanying value,\n",
        "the function automatically returns a special value called None.\n",
        "None is a built-in constant in Python representing the absence of a value or a null value.'''"
      ],
      "metadata": {
        "id": "aLsash5ngWcN"
      },
      "execution_count": null,
      "outputs": []
    },
    {
      "cell_type": "code",
      "source": [
        "'''9. How do you make a function variable refer to the global variable?\n",
        "To make a function variable refer to a global variable, you need to use the global keyword within the function.\n",
        "This informs Python that you want to use the global variable, rather than creating a new local variable with the same name within the function's scope.'''\n",
        "\n",
        "a = \"fantastic\"\n",
        "def myfunc():\n",
        "   global a\n",
        "   print(\"Python is \" + a +\" its printed Inside the fucntion\")\n",
        "\n",
        "myfunc()\n",
        "print(\"Python is \" + a +\" its printed outside the fucntion\")\n",
        "\n",
        "#In this example, a is defined globally, and the function myfunc() uses the global keyword before referencing the variable.\n",
        "#This ensures that the function is using the global variable, and any changes made to it within the function will affect the global variable."
      ],
      "metadata": {
        "colab": {
          "base_uri": "https://localhost:8080/"
        },
        "id": "moqa7tkKiG2d",
        "outputId": "f66eb214-c210-446a-d1ba-689a0b29f2e3"
      },
      "execution_count": null,
      "outputs": [
        {
          "output_type": "stream",
          "name": "stdout",
          "text": [
            "Python is fantastic its printed Inside the fucntion\n",
            "Python is fantastic its printed outside the fucntion\n"
          ]
        }
      ]
    },
    {
      "cell_type": "code",
      "source": [
        "'''10. What is the data type of None?\n",
        "\n",
        "The data type of None is its own type, which is called NoneType.\n",
        "None is a special constant representing the absence of a value or a null value.\n",
        "It is often used to signify that a variable or a function does not have a meaningful result or a valid value.\n",
        "\n",
        "We can check the type of None using the type() function:'''\n",
        "result = None\n",
        "print(type(result))\n"
      ],
      "metadata": {
        "colab": {
          "base_uri": "https://localhost:8080/"
        },
        "id": "CX9FNr-blH0J",
        "outputId": "9562a761-ecac-412c-9ecc-55cbc21ff28e"
      },
      "execution_count": null,
      "outputs": [
        {
          "output_type": "stream",
          "name": "stdout",
          "text": [
            "<class 'NoneType'>\n"
          ]
        }
      ]
    },
    {
      "cell_type": "code",
      "source": [
        "'''11. What does the sentence import areallyourpetsnamederic do?\n",
        "\n",
        "In Python, the import statement is used to bring in modules or packages into your code, making their functionality accessible. BUT\n",
        "The sentence \"import areallyourpetsnamederic\" is not a standard Python import statement.\n",
        "And it does not reference any existing module or library in the Python standard library or commonly used third-party libraries.\n",
        "\n",
        "If we try to import it , we will get the error - \"ModuleNotFoundError\"\n",
        "\n",
        "Or we can try to install the module first and then import'''"
      ],
      "metadata": {
        "id": "DnSRlXwnmCSV"
      },
      "execution_count": null,
      "outputs": []
    },
    {
      "cell_type": "code",
      "source": [
        "'''12. If you had a bacon() feature in a spam module, what would you call it after importing spam?\n",
        "import spam\n",
        "\n",
        "spam.bacon()'''"
      ],
      "metadata": {
        "id": "i-7zoYCmnTMI"
      },
      "execution_count": null,
      "outputs": []
    },
    {
      "cell_type": "code",
      "source": [
        "'''13. What can you do to save a program from crashing if it encounters an error?\n",
        "To prevent a program from crashing when it encounters an error, We can implement error handling using try-except blocks.\n",
        "This allows you to gracefully handle exceptions and take appropriate actions without abruptly terminating the program.\n",
        "the try, except, else, and finally blocks are commonly used for exception handling in Python.'''\n"
      ],
      "metadata": {
        "id": "bviDtSxtp1up"
      },
      "execution_count": null,
      "outputs": []
    },
    {
      "cell_type": "code",
      "source": [
        "'''14. What is the purpose of the try clause? What is the purpose of the except clause?\n",
        "try Clause:\n",
        "The code inside the try block is the section where we suspect an exception might occur.\n",
        "If an exception occurs within the try block, the control is transferred to the corresponding except block.\n",
        "\n",
        "except Clause:\n",
        "The code inside the except block is executed when a specified exception (or its subclass) occurs in the corresponding try block.\n",
        "We can catch specific exceptions by specifying their type after the except keyword (e.g., except ValueError:),\n",
        "or we can use a more general except clause to catch any exception.'''"
      ],
      "metadata": {
        "id": "8Y4RxyGMrv7c"
      },
      "execution_count": null,
      "outputs": []
    }
  ]
}