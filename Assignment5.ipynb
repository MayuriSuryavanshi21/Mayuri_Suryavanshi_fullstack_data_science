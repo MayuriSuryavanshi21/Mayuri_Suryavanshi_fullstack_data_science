{
  "nbformat": 4,
  "nbformat_minor": 0,
  "metadata": {
    "colab": {
      "provenance": []
    },
    "kernelspec": {
      "name": "python3",
      "display_name": "Python 3"
    },
    "language_info": {
      "name": "python"
    }
  },
  "cells": [
    {
      "cell_type": "code",
      "execution_count": 2,
      "metadata": {
        "colab": {
          "base_uri": "https://localhost:8080/"
        },
        "id": "H5O-mjLkOsH-",
        "outputId": "4cdf653e-fec3-4d4a-d1e0-d258c881cce3"
      },
      "outputs": [
        {
          "output_type": "execute_result",
          "data": {
            "text/plain": [
              "dict"
            ]
          },
          "metadata": {},
          "execution_count": 2
        }
      ],
      "source": [
        "#1. What does an empty dictionary's code look like?\n",
        "#An empty dictionary is represented by curly braces {}\n",
        "a = {}\n",
        "type(a)\n"
      ]
    },
    {
      "cell_type": "code",
      "source": [
        "#2.What is the value of a dictionary value with the key 'foo' and the value 42?\n",
        "x ={'foo':42}\n",
        "value_of_foo = x['foo']\n",
        "print(value_of_foo)"
      ],
      "metadata": {
        "colab": {
          "base_uri": "https://localhost:8080/"
        },
        "id": "V9bFnGL6Pfny",
        "outputId": "4275c408-cb35-4185-9085-f2a4478f6eff"
      },
      "execution_count": 3,
      "outputs": [
        {
          "output_type": "stream",
          "name": "stdout",
          "text": [
            "42\n"
          ]
        }
      ]
    },
    {
      "cell_type": "code",
      "source": [
        "#3. What is the most significant distinction between a dictionary and a list?\n",
        "'''The most significant distinction between a dictionary and a list lies in how they store and access data:\n",
        "\n",
        "Mutability:\n",
        "List: Mutable (we can change, add, or remove elements).\n",
        "Dictionary: Mutable (we can modify, add, or remove key-value pairs).\n",
        "\n",
        "Ordering:\n",
        "List: Maintains the order of elements based on their index (position in the list).\n",
        "Elements are accessed using integer indices, and the order in which elements are added is preserved.\n",
        "Dictionary: Does not guarantee any specific order of key-value pairs.\n",
        "\n",
        "Accessing Elements:\n",
        "List: Elements are accessed using integer indices. For example, my_list[0] would access the first element of the list.\n",
        "Dictionary: Elements are accessed using keys. Each key in the dictionary maps to a specific value.\n",
        "For example, my_dict['key'] would access the value associated with the key 'key'.'''"
      ],
      "metadata": {
        "id": "t68ew8awQVmM"
      },
      "execution_count": null,
      "outputs": []
    },
    {
      "cell_type": "code",
      "source": [
        "#4. What happens if you try to access spam['foo'] if spam is {'bar': 100}?\n",
        "spam = {'bar': 100}\n",
        "spam['foo'] #This will give us key error as key 'foo' does not exist in the dictionary spam"
      ],
      "metadata": {
        "colab": {
          "base_uri": "https://localhost:8080/",
          "height": 217
        },
        "id": "JC_yiUA4Rbtg",
        "outputId": "cd35fbc4-b032-448e-fa03-f429341fdebc"
      },
      "execution_count": 4,
      "outputs": [
        {
          "output_type": "error",
          "ename": "KeyError",
          "evalue": "'foo'",
          "traceback": [
            "\u001b[0;31m---------------------------------------------------------------------------\u001b[0m",
            "\u001b[0;31mKeyError\u001b[0m                                  Traceback (most recent call last)",
            "\u001b[0;32m<ipython-input-4-31f2788908ef>\u001b[0m in \u001b[0;36m<cell line: 3>\u001b[0;34m()\u001b[0m\n\u001b[1;32m      1\u001b[0m \u001b[0;31m#4. What happens if you try to access spam['foo'] if spam is {'bar': 100}?\u001b[0m\u001b[0;34m\u001b[0m\u001b[0;34m\u001b[0m\u001b[0m\n\u001b[1;32m      2\u001b[0m \u001b[0mspam\u001b[0m \u001b[0;34m=\u001b[0m \u001b[0;34m{\u001b[0m\u001b[0;34m'bar'\u001b[0m\u001b[0;34m:\u001b[0m \u001b[0;36m100\u001b[0m\u001b[0;34m}\u001b[0m\u001b[0;34m\u001b[0m\u001b[0;34m\u001b[0m\u001b[0m\n\u001b[0;32m----> 3\u001b[0;31m \u001b[0mspam\u001b[0m\u001b[0;34m[\u001b[0m\u001b[0;34m'foo'\u001b[0m\u001b[0;34m]\u001b[0m\u001b[0;34m\u001b[0m\u001b[0;34m\u001b[0m\u001b[0m\n\u001b[0m",
            "\u001b[0;31mKeyError\u001b[0m: 'foo'"
          ]
        }
      ]
    },
    {
      "cell_type": "code",
      "source": [
        "#5. If a dictionary is stored in spam, what is the difference between the expressions 'cat' in spam and 'cat' in spam.keys()?\n",
        "\n",
        "spam = {'cat':5,'dog':4,'ox':3}\n",
        "\n",
        "print(spam.keys())\n",
        "#spam.keys() returns a view object that displays a list of all the keys in the dictionary.\n",
        "\n",
        "print('cat' in spam) #True\n",
        "#This expression checks if the key 'cat' is present in the dictionary spam.\n",
        "#Returns a boolean value (True if 'cat' is a key in spam, and False otherwise).\n",
        "\n",
        "print('cat' in spam.keys())\n",
        "#This expression checks if the key 'cat' is present in the list of keys obtained from spam.keys().\n",
        "#Returns a boolean value (True if 'cat' is a key in spam, and False otherwise)."
      ],
      "metadata": {
        "colab": {
          "base_uri": "https://localhost:8080/"
        },
        "id": "ySROoSACSWmb",
        "outputId": "a806421e-74ef-49bb-cf75-7c4655c84dab"
      },
      "execution_count": 15,
      "outputs": [
        {
          "output_type": "stream",
          "name": "stdout",
          "text": [
            "dict_keys(['cat', 'dog', 'ox'])\n",
            "True\n",
            "True\n"
          ]
        }
      ]
    },
    {
      "cell_type": "code",
      "source": [
        "#6. If a dictionary is stored in spam, what is the difference between the expressions 'cat' in spam and 'cat' in spam.values()?\n",
        "\n",
        "spam = {'cat':5,'dog':4,'ox':3}\n",
        "print('cat' in spam) #checks if 'cat' is a key in the dictionary spam\n",
        "\n",
        "print(spam.values())\n",
        "print('cat' in spam.values()) #checks if 'cat' is a value in the dictionary spam.returns false as cat is key here and not value"
      ],
      "metadata": {
        "colab": {
          "base_uri": "https://localhost:8080/"
        },
        "id": "Fxqqg7gEWHZ_",
        "outputId": "4b3f7095-ee96-4576-c1f6-204e7c2e51d7"
      },
      "execution_count": 21,
      "outputs": [
        {
          "output_type": "stream",
          "name": "stdout",
          "text": [
            "True\n",
            "dict_values([5, 4, 3])\n",
            "False\n"
          ]
        }
      ]
    },
    {
      "cell_type": "code",
      "source": [
        "'''7. What is a shortcut for the following code?\n",
        "if 'color' not in spam:\n",
        "  spam['color'] = 'black'''\n",
        "\n",
        "spam={'animal':'bear'}\n",
        "spam.setdefault('color', 'black')\n",
        "print(spam)\n",
        "\n",
        "# The setdefault method checks if a key exists in the dictionary. If it does, it returns the corresponding value.\n",
        "# If the key does not exist, it inserts the key with a default value and returns that value\n",
        "\n",
        "spam1={'animal':'bear','color':'red'}\n",
        "spam1.setdefault('color', 'black')\n",
        "print(spam1)"
      ],
      "metadata": {
        "colab": {
          "base_uri": "https://localhost:8080/"
        },
        "id": "qwgEqTSlXOEN",
        "outputId": "0b691635-fd0f-4ed2-a1ce-adf46ef0f576"
      },
      "execution_count": 39,
      "outputs": [
        {
          "output_type": "stream",
          "name": "stdout",
          "text": [
            "{'animal': 'bear', 'color': 'black'}\n",
            "{'animal': 'bear', 'color': 'red'}\n"
          ]
        }
      ]
    },
    {
      "cell_type": "code",
      "source": [
        "'''8. How do you \"pretty print\" dictionary values using which module and function?\n",
        "The pprint function is part of the pprint module, which stands for \"pretty-print.\"\n",
        "The pprint module provides a way to format complex data structures in a more readable and organized manner.\n",
        "\n",
        "Here's an example of how you can use pprint to pretty print a dictionary:'''\n",
        "import pprint\n",
        "\n",
        "my_dict = {'name': 'John', 'age': 25, 'city': 'New York', 'interests': ['reading', 'coding', 'hiking'],'Hobbies':'playing guitar'}\n",
        "print(my_dict) #Printing with print()\n",
        "print(\"***************************************************************************************************************************\")\n",
        "pprint.pprint(my_dict) #Printing with pprint()"
      ],
      "metadata": {
        "colab": {
          "base_uri": "https://localhost:8080/"
        },
        "id": "vicvGPzOZxxw",
        "outputId": "7f8fce6f-4c4c-460a-a2c9-aaa5944a35d8"
      },
      "execution_count": 44,
      "outputs": [
        {
          "output_type": "stream",
          "name": "stdout",
          "text": [
            "{'name': 'John', 'age': 25, 'city': 'New York', 'interests': ['reading', 'coding', 'hiking'], 'Hobbies': 'playing guitar'}\n",
            "***************************************************************************************************************************\n",
            "{'Hobbies': 'playing guitar',\n",
            " 'age': 25,\n",
            " 'city': 'New York',\n",
            " 'interests': ['reading', 'coding', 'hiking'],\n",
            " 'name': 'John'}\n"
          ]
        }
      ]
    }
  ]
}