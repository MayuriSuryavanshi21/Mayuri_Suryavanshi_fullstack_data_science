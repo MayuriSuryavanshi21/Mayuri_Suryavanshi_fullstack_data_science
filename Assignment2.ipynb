{
  "nbformat": 4,
  "nbformat_minor": 0,
  "metadata": {
    "colab": {
      "provenance": []
    },
    "kernelspec": {
      "name": "python3",
      "display_name": "Python 3"
    },
    "language_info": {
      "name": "python"
    }
  },
  "cells": [
    {
      "cell_type": "code",
      "execution_count": 5,
      "metadata": {
        "colab": {
          "base_uri": "https://localhost:8080/"
        },
        "id": "w2KFfMkhQZoS",
        "outputId": "3e62c772-7602-476b-bd88-55dced46dcc7"
      },
      "outputs": [
        {
          "output_type": "execute_result",
          "data": {
            "text/plain": [
              "bool"
            ]
          },
          "metadata": {},
          "execution_count": 5
        }
      ],
      "source": [
        "'''1.What are the two values of the Boolean data type? How do you write them?\n",
        "\n",
        " A boolean is a data type with two possible values: true (1) or false (0). The two values help represent truth conditions found in logic control structures.\n",
        " We can write these values in Python without quotes, as they are keywords.'''\n",
        "a = True\n",
        "type(a)\n",
        "#The output <class ‘bool’> indicates the variable is a boolean data type."
      ]
    },
    {
      "cell_type": "code",
      "source": [
        "'''2. What are the three different types of Boolean operators?\n",
        "\n",
        "The three primary Boolean operators are:\"AND\", \"OR\" and \"NOT\"\n",
        "AND (and): The and operator returns True if both operands are True, and False otherwise.\n",
        "OR (or): The or operator returns True if at least one of the operands is True, and False if both operands are False.\n",
        "NOT (not): The not operator negates the value of a Boolean expression. If the expression is True, not makes it False, and vice versa.'''\n",
        "\n",
        "# Small Comprehensive example using all three Boolean operators\n",
        "\n",
        "is_sunny = True\n",
        "is_warm = False\n",
        "is_weekend = True\n",
        "\n",
        "# Using Boolean operators in a conditional statement\n",
        "if is_sunny and is_warm:\n",
        "    print(\"Perfect day for outdoor activities!\")\n",
        "elif not is_sunny and is_weekend:\n",
        "    print(\"It's not sunny, but it's the weekend. Consider indoor plans.\")\n",
        "elif is_sunny or is_warm:\n",
        "    print(\"It's either sunny or warm. Check your preferences.\")\n",
        "else:\n",
        "    print(\"It's neither sunny nor warm. Stay cozy indoors.\")\n",
        "\n"
      ],
      "metadata": {
        "colab": {
          "base_uri": "https://localhost:8080/"
        },
        "id": "4GzSgEbRSpew",
        "outputId": "88ee6075-7c25-46ac-acba-ed1433faedd6"
      },
      "execution_count": 8,
      "outputs": [
        {
          "output_type": "stream",
          "name": "stdout",
          "text": [
            "It's either sunny or warm. Check your preferences.\n"
          ]
        }
      ]
    },
    {
      "cell_type": "code",
      "source": [
        "'''3. Make a list of each Boolean operator's truth tables (i.e. every possible combination of Boolean values for the operator and what it evaluate ).\n",
        "\n",
        "AND Operator (and):\n",
        "Operand1         Operand2          operand 1 AND operand 2\n",
        "True(1)          True(1)              True(1)\n",
        "True(1)          False(0)             False(0)\n",
        "False(0)         True(1)              False(0)\n",
        "False(0)         False(0)             False(0)\n",
        "\n",
        "OR Operator (or):\n",
        "Operand1         Operand2          operand 1 OR operand 2\n",
        "True(1)          True(1)              True(1)\n",
        "True(1)          False(0)             True(1)\n",
        "False(0)         True(1)              True(1)\n",
        "False(0)         False(0)             False(0)\n",
        "\n",
        "NOT operator(not):\n",
        "Operand          Not(Operand)\n",
        "True(1)          False(0)\n",
        "False(0)         True(1)  '''"
      ],
      "metadata": {
        "id": "t69rKYKagWrY"
      },
      "execution_count": 16,
      "outputs": []
    },
    {
      "cell_type": "code",
      "source": [
        "#4. What are the values of the following expressions?\n",
        "print((5 > 4) and (3 == 5))\n",
        "print(not (5 > 4))\n",
        "print((5 > 4) or (3 == 5))\n",
        "print(not ((5 > 4) or (3 == 5)))\n",
        "print((True and True) and (True == False))\n",
        "print((not False) or (not True))\n"
      ],
      "metadata": {
        "colab": {
          "base_uri": "https://localhost:8080/"
        },
        "id": "OSGYCZrBjXxu",
        "outputId": "d1826546-64ed-44fc-bcaf-4fd0213182fb"
      },
      "execution_count": 13,
      "outputs": [
        {
          "output_type": "stream",
          "name": "stdout",
          "text": [
            "False\n",
            "False\n",
            "True\n",
            "False\n",
            "False\n",
            "True\n"
          ]
        }
      ]
    },
    {
      "cell_type": "code",
      "source": [
        "'''5. What are the six comparison operators?\n",
        "The six comparison operators in Python are used to compare values and return Boolean results\n",
        "\n",
        "1.Equal to (==): Checks if two values are equal.\n",
        "2.Not equal to (!=): Checks if two values are not equal.\n",
        "3.Greater than (>): Checks if the left operand is greater than the right operand.\n",
        "4.Less than (<): Checks if the left operand is less than the right operand.\n",
        "5.Greater than or equal to (>=): Checks if the left operand is greater than or equal to the right operand.\n",
        "6.Less than or equal to (<=): Checks if the left operand is less than or equal to the right operand.'''\n"
      ],
      "metadata": {
        "id": "Ovt9ilV-mi0i"
      },
      "execution_count": 16,
      "outputs": []
    },
    {
      "cell_type": "code",
      "source": [
        "'''6. How do you tell the difference between the equal to and assignment operators? Describe a condition and when you would use one.'''\n",
        "#Equal To Operator (==):\n",
        "#Used for comparison.\n",
        "#Checks if two values are equal.\n",
        "#Returns a Boolean result (True if equal, False if not).\n",
        "#Example:\n",
        "a = 5\n",
        "b = 5\n",
        "result = (a == b)\n",
        "print(result)\n",
        "'''Conditions:\n",
        "\n",
        "I would use the equal to operator in conditions where you need to compare values to make decisions.\n",
        "For example, in an if statement to check whether a condition is true or false'''\n",
        "if a == b:\n",
        "    print(\"Values are equal.\")\n",
        "\n",
        "#Assignment Operator (=):\n",
        "#Used for variable assignment.\n",
        "#Assigns a value to a variable.\n",
        "#Does not compare values; it assigns the value on the right-hand side to the variable on the left-hand side.\n",
        "#Example:\n",
        "x = 10\n",
        "y = 5\n",
        "print(x,y)\n",
        "\n",
        "''''CONDITIONS:\n",
        "I would use the assignment operator when you want to store a value in a variable.\n",
        "It is essential for initializing variables and updating their values throughout the program.'''\n",
        "result1 = x + y\n",
        "print(result1)"
      ],
      "metadata": {
        "colab": {
          "base_uri": "https://localhost:8080/"
        },
        "id": "PbRqtCHOoNID",
        "outputId": "27d84a0c-9004-4721-be8c-749619363277"
      },
      "execution_count": 31,
      "outputs": [
        {
          "output_type": "stream",
          "name": "stdout",
          "text": [
            "True\n",
            "Values are equal.\n",
            "10 5\n",
            "15\n"
          ]
        }
      ]
    },
    {
      "cell_type": "code",
      "source": [
        "'''7.Identify the three blocks in this code:'''\n",
        "spam = 0\n",
        "if spam == 10:\n",
        " print('eggs') #Block 1\n",
        "if spam > 5:\n",
        " print('bacon') #Block 2\n",
        "else:\n",
        " print('ham') #Block 3\n",
        " print('spam')\n",
        " print('spam')\n"
      ],
      "metadata": {
        "colab": {
          "base_uri": "https://localhost:8080/"
        },
        "id": "8KxvZo6Quz83",
        "outputId": "65f92ae2-4b70-453a-82a5-32a4a541d094"
      },
      "execution_count": 33,
      "outputs": [
        {
          "output_type": "stream",
          "name": "stdout",
          "text": [
            "ham\n",
            "spam\n",
            "spam\n"
          ]
        }
      ]
    },
    {
      "cell_type": "code",
      "source": [
        "#8. Write code that prints Hello if 1 is stored in spam, prints Howdy if 2 is stored in spam, and prints Greetings! if anything else is stored in spam.\n",
        "spam = int(input(\"Enter Value:\"))\n",
        "if spam == 1:\n",
        "  print(\"Hello\")\n",
        "elif spam ==2:\n",
        "  print(\"Howdy\")\n",
        "else:\n",
        "  print(\"Greetings!\")"
      ],
      "metadata": {
        "colab": {
          "base_uri": "https://localhost:8080/"
        },
        "id": "36s4ixWtwVSR",
        "outputId": "7876f456-746b-4272-f2b7-a7ef6da54a1b"
      },
      "execution_count": 37,
      "outputs": [
        {
          "output_type": "stream",
          "name": "stdout",
          "text": [
            "Enter Value:9\n",
            "Greetings!\n"
          ]
        }
      ]
    },
    {
      "cell_type": "code",
      "source": [
        "#9.If your program is stuck in an endless loop, what keys you’ll press?\n",
        "#We will Press Ctrl + C (Control key + C key): This combination is commonly used to break out of a running program or script in a terminal or console environment."
      ],
      "metadata": {
        "id": "ZCedJDUbyBhg"
      },
      "execution_count": 38,
      "outputs": []
    },
    {
      "cell_type": "code",
      "source": [
        "#10. How can you tell the difference between break and continue?\n",
        "'''break Statement:\n",
        "The break statement is used to exit the loop prematurely, regardless of whether the loop condition is still true.\n",
        "It is typically used to terminate the loop based on a certain condition.\n",
        "\n",
        "continue Statement:\n",
        "The continue statement is used to skip the rest of the code inside the loop for the current iteration and move to the next iteration.\n",
        "It is useful when you want to skip some specific code for certain conditions but continue with the next iteration of the loop.'''\n",
        "\n",
        "for i in range(1, 11):\n",
        "    if i % 2 == 0:\n",
        "        print(f\"{i} is even.\")\n",
        "        continue  # Skip the rest of the code for even numbers and move to the next iteration\n",
        "\n",
        "    # Check if the current number is 7\n",
        "    if i == 7:\n",
        "        print(\"Found 7. Breaking the loop.\")\n",
        "        break  # Exit the loop when 7 is found\n",
        "    # Print a message for odd numbers (except 7)\n",
        "    print(f\"{i} is odd.\")\n"
      ],
      "metadata": {
        "colab": {
          "base_uri": "https://localhost:8080/"
        },
        "id": "JNlli-wpy6bf",
        "outputId": "830876cb-2f05-4cd9-8484-4565220007ec"
      },
      "execution_count": 45,
      "outputs": [
        {
          "output_type": "stream",
          "name": "stdout",
          "text": [
            "1 is odd.\n",
            "2 is even.\n",
            "3 is odd.\n",
            "4 is even.\n",
            "5 is odd.\n",
            "6 is even.\n",
            "Found 7. Breaking the loop.\n"
          ]
        }
      ]
    },
    {
      "cell_type": "code",
      "source": [
        "#11. In a for loop, what is the difference between range(10), range(0, 10), and range(0, 10, 1)?\n",
        "for i in range(10):\n",
        "    print(i)\n",
        "print(\"**************************************************************************************\")\n",
        "for i in range(0,10):\n",
        "    print(i)\n",
        "print(\"***************************************************************************************\")\n",
        "for i in range(0,10,1):\n",
        "    print(i)\n",
        "\n",
        "'''From the above output we can conclude that they all do the same thing , give same output but\n",
        "range(10)\n",
        "This form of range() generates a sequence of numbers from 0 to (10 - 1).\n",
        "It starts from the default value of 0 and increments by 1.\n",
        "\n",
        "range(0,10)\n",
        "This form of range() is explicitly specifying the starting point (0) and the ending point (10 - 1).\n",
        "It starts from 0 and increments by 1.\n",
        "\n",
        "range(0, 10, 1):\n",
        "This form of range() includes the starting point (0), ending point (10 - 1), and the step size (1).\n",
        "It starts from 0 and increments by 1, which is the default behavior.'''"
      ],
      "metadata": {
        "colab": {
          "base_uri": "https://localhost:8080/",
          "height": 643
        },
        "id": "G194y8EA1u4w",
        "outputId": "ce415b3f-4d62-4263-bc9a-b9cfff9fd8c8"
      },
      "execution_count": 47,
      "outputs": [
        {
          "output_type": "stream",
          "name": "stdout",
          "text": [
            "0\n",
            "1\n",
            "2\n",
            "3\n",
            "4\n",
            "5\n",
            "6\n",
            "7\n",
            "8\n",
            "9\n",
            "**************************************************************************************\n",
            "0\n",
            "1\n",
            "2\n",
            "3\n",
            "4\n",
            "5\n",
            "6\n",
            "7\n",
            "8\n",
            "9\n",
            "***************************************************************************************\n",
            "0\n",
            "1\n",
            "2\n",
            "3\n",
            "4\n",
            "5\n",
            "6\n",
            "7\n",
            "8\n",
            "9\n"
          ]
        },
        {
          "output_type": "execute_result",
          "data": {
            "text/plain": [
              "'From the above output we can conclude that they all do the same thing , give same output but\\nrange(10)\\nThis form of range() generates a sequence of numbers from 0 to (10 - 1).\\nIt starts from the default value of 0 and increments by 1.\\n\\nrange(0,10)\\nThis form of range() is explicitly specifying the starting point (0) and the ending point (10 - 1).\\nIt starts from 0 and increments by 1.\\n\\nrange(0, 10, 1):\\nThis form of range() includes the starting point (0), ending point (10 - 1), and the step size (1).\\nIt starts from 0 and increments by 1, which is the default behavior.'"
            ],
            "application/vnd.google.colaboratory.intrinsic+json": {
              "type": "string"
            }
          },
          "metadata": {},
          "execution_count": 47
        }
      ]
    },
    {
      "cell_type": "code",
      "source": [
        "#12. Write a short program that prints the numbers 1 to 10 using a for loop. Then write an equivalent program that prints the numbers 1 to 10 using a while loop.\n",
        "print(\"For Loop\")\n",
        "for i in range(1,11):\n",
        "  print(i)\n",
        "\n",
        "print(\"xxxxxxxxxxxxxxxxxxxxxxxxxxxxxxxxxxxxxxxxxxxxxxxxxxxxx\")\n",
        "print(\"While Loop\")\n",
        "a=1\n",
        "while a <= 10:\n",
        " print(a)\n",
        " a += 1\n"
      ],
      "metadata": {
        "colab": {
          "base_uri": "https://localhost:8080/"
        },
        "id": "yK2Nzx9G3KZC",
        "outputId": "b77b412c-7150-40b8-89cd-1e466aec3317"
      },
      "execution_count": 60,
      "outputs": [
        {
          "output_type": "stream",
          "name": "stdout",
          "text": [
            "For Loop\n",
            "1\n",
            "2\n",
            "3\n",
            "4\n",
            "5\n",
            "6\n",
            "7\n",
            "8\n",
            "9\n",
            "10\n",
            "xxxxxxxxxxxxxxxxxxxxxxxxxxxxxxxxxxxxxxxxxxxxxxxxxxxxx\n",
            "While Loop\n",
            "1\n",
            "2\n",
            "3\n",
            "4\n",
            "5\n",
            "6\n",
            "7\n",
            "8\n",
            "9\n",
            "10\n"
          ]
        }
      ]
    },
    {
      "cell_type": "code",
      "source": [
        "#13. If you had a function named bacon() inside a module named spam, how would you call it after importing spam?\n",
        "#This function can be called with spam.bacon()\n"
      ],
      "metadata": {
        "id": "ZszFBIbi-TVE"
      },
      "execution_count": 64,
      "outputs": []
    }
  ]
}