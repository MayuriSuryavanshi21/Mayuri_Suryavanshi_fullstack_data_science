{
  "nbformat": 4,
  "nbformat_minor": 0,
  "metadata": {
    "colab": {
      "provenance": []
    },
    "kernelspec": {
      "name": "python3",
      "display_name": "Python 3"
    },
    "language_info": {
      "name": "python"
    }
  },
  "cells": [
    {
      "cell_type": "code",
      "execution_count": 2,
      "metadata": {
        "colab": {
          "base_uri": "https://localhost:8080/"
        },
        "id": "wCJ66c2QOntZ",
        "outputId": "310b8435-b357-4a34-b054-77909261cedf"
      },
      "outputs": [
        {
          "output_type": "execute_result",
          "data": {
            "text/plain": [
              "list"
            ]
          },
          "metadata": {},
          "execution_count": 2
        }
      ],
      "source": [
        "'''1. What exactly is []?\n",
        "In Python, [] represents an empty list. A list is a built-in data structure that can hold an ordered collection of items.\n",
        "The square brackets [] are used to create a list, and when used with no elements inside, it denotes an empty list.'''\n",
        "x = []  #x is an empty list\n",
        "type(x)"
      ]
    },
    {
      "cell_type": "code",
      "source": [
        "'''2. In a list of values stored in a variable called spam, how would you assign the value 'hello' as the\n",
        "third value? (Assume [2, 4, 6, 8, 10] are in spam.)'''\n",
        "\n",
        "spam = [2,4,6,8,10] #Given\n",
        "spam[2] = 'hello'  #Using Indexing assigning third value as 'hello\n",
        "spam  # The value at index 2, which is the third value in the list, has been changed to 'hello'."
      ],
      "metadata": {
        "colab": {
          "base_uri": "https://localhost:8080/"
        },
        "id": "BnPYCSmhSEfw",
        "outputId": "43ff5f4d-f2b5-4176-8cee-79d1953e20d2"
      },
      "execution_count": 5,
      "outputs": [
        {
          "output_type": "execute_result",
          "data": {
            "text/plain": [
              "[2, 4, 'hello', 8, 10]"
            ]
          },
          "metadata": {},
          "execution_count": 5
        }
      ]
    },
    {
      "cell_type": "code",
      "source": [
        "# Let's pretend the spam includes the list ['a', 'b', 'c', 'd'] for the next three queries(3,4,5)\n",
        "# spam = ['a', 'b', 'c', 'd']\n",
        "\n",
        "# 3. What is the value of spam[int(int('3' * 2) / 11)]?\n",
        "spam = ['a', 'b', 'c', 'd']\n",
        "spam[int(int('3' * 2) / 11)]\n",
        "\n",
        "'''int('3' * 2) evaluates to int('33'), which is 33.\n",
        "int('33') / 11 evaluates to 33 / 11, which is 3.0.\n",
        "spam[3.0] tries to access the element at index 3.0 in the list spam.Python automatically converts the float to an integer in this context.\n",
        "The final result would be accessing the element at index 3, which is the fourth element in the list'''"
      ],
      "metadata": {
        "colab": {
          "base_uri": "https://localhost:8080/",
          "height": 36
        },
        "id": "JJU660TwTwqA",
        "outputId": "4fda75ba-6ffb-441d-bb21-c97b1fb418a9"
      },
      "execution_count": 6,
      "outputs": [
        {
          "output_type": "execute_result",
          "data": {
            "text/plain": [
              "'d'"
            ],
            "application/vnd.google.colaboratory.intrinsic+json": {
              "type": "string"
            }
          },
          "metadata": {},
          "execution_count": 6
        }
      ]
    },
    {
      "cell_type": "code",
      "source": [
        "#4. What is the value of spam[-1]?\n",
        "spam = ['a', 'b', 'c', 'd']\n",
        "spam[-1]\n",
        "\n",
        "#negative indices in a list are used to access elements from the end of the list.\n",
        "#The index -1 corresponds to the last element of the list."
      ],
      "metadata": {
        "colab": {
          "base_uri": "https://localhost:8080/",
          "height": 36
        },
        "id": "eLnmuyuIXA1Z",
        "outputId": "f377ee9f-a7d2-4045-a19c-f7de0732665b"
      },
      "execution_count": 8,
      "outputs": [
        {
          "output_type": "execute_result",
          "data": {
            "text/plain": [
              "'d'"
            ],
            "application/vnd.google.colaboratory.intrinsic+json": {
              "type": "string"
            }
          },
          "metadata": {},
          "execution_count": 8
        }
      ]
    },
    {
      "cell_type": "code",
      "source": [
        "#5. What is the value of spam[:2]?\n",
        "spam = ['a', 'b', 'c', 'd']\n",
        "spam[:2]\n",
        "\n",
        "#spam[:2] is a slicing operation on the list spam.\n",
        "#It extracts elements from the beginning of the list up to index 2, but not including, the element at index 2(exclusive)."
      ],
      "metadata": {
        "colab": {
          "base_uri": "https://localhost:8080/"
        },
        "id": "R84JcZTkXZBd",
        "outputId": "ad2ed610-5d8a-4461-993c-deb44d7345e5"
      },
      "execution_count": 10,
      "outputs": [
        {
          "output_type": "execute_result",
          "data": {
            "text/plain": [
              "['a', 'b']"
            ]
          },
          "metadata": {},
          "execution_count": 10
        }
      ]
    },
    {
      "cell_type": "code",
      "source": [
        "#Let's pretend bacon has the list [3.14, 'cat,' 11, 'cat,' True] for the next three questions.(6,7,8)"
      ],
      "metadata": {
        "id": "_tsNsDYkXa2w"
      },
      "execution_count": null,
      "outputs": []
    },
    {
      "cell_type": "code",
      "source": [
        "#6. What is the value of bacon.index('cat')?\n",
        "\n",
        "bacon = [3.14, 'cat', 11, 'cat', True]\n",
        "bacon.index('cat')\n",
        "\n",
        "#it will return the index of the first occurrence of the string 'cat' in the list.\n",
        "#In this list,'cat' first appears at index 1. Therefore, the value of bacon.index('cat') is 1."
      ],
      "metadata": {
        "colab": {
          "base_uri": "https://localhost:8080/"
        },
        "id": "GQDXHMpcY5qm",
        "outputId": "d09499c5-e23c-4421-9d3f-f858716344e7"
      },
      "execution_count": 14,
      "outputs": [
        {
          "output_type": "execute_result",
          "data": {
            "text/plain": [
              "1"
            ]
          },
          "metadata": {},
          "execution_count": 14
        }
      ]
    },
    {
      "cell_type": "code",
      "source": [
        "#7.How does bacon.append(99) change the look of the list value in bacon?\n",
        "\n",
        "bacon = [3.14, 'cat', 11, 'cat', True]\n",
        "bacon.append(99) #it adds the integer 99 to the end of the list bacon\n",
        "bacon            #the list bacon will be modified to its new value."
      ],
      "metadata": {
        "colab": {
          "base_uri": "https://localhost:8080/"
        },
        "id": "p4eUmlgvZmnW",
        "outputId": "631a39a1-1392-45cc-b3bf-c5c4c47013a6"
      },
      "execution_count": 17,
      "outputs": [
        {
          "output_type": "execute_result",
          "data": {
            "text/plain": [
              "[3.14, 'cat', 11, 'cat', True, 99]"
            ]
          },
          "metadata": {},
          "execution_count": 17
        }
      ]
    },
    {
      "cell_type": "code",
      "source": [
        "#8. How does bacon.remove('cat') change the look of the list in bacon?\n",
        "bacon = [3.14, 'cat', 11, 'cat', True]\n",
        "bacon.remove('cat')  #it will remove the first occurrence of the string 'cat' from the list bacon\n",
        "bacon"
      ],
      "metadata": {
        "colab": {
          "base_uri": "https://localhost:8080/"
        },
        "id": "Y8qJjnC8anY_",
        "outputId": "8b4df59d-6f46-4694-e4bf-c815554674c2"
      },
      "execution_count": 19,
      "outputs": [
        {
          "output_type": "execute_result",
          "data": {
            "text/plain": [
              "[3.14, 11, 'cat', True]"
            ]
          },
          "metadata": {},
          "execution_count": 19
        }
      ]
    },
    {
      "cell_type": "code",
      "source": [
        "#9. What are the list concatenation and list replication operators?\n",
        "\n",
        "# List Concatenation (+):\n",
        "# The + operator is used to concatenate two lists,creating a new list that contains all the elements of the first list followed by all the elements of the second list.'''\n",
        "lista = ['Mango','Apple','Pear']\n",
        "listb = [11,12,88,99]\n",
        "concatenated_list = lista + listb\n",
        "print(concatenated_list)\n",
        "\n",
        "#List Replication (*):\n",
        "#The * operator is used to replicate a list by repeating its elements a specified number of times.\n",
        "l1 = ['India',1947,'15th August']\n",
        "list_replication =l1 * 3\n",
        "print(list_replication)"
      ],
      "metadata": {
        "colab": {
          "base_uri": "https://localhost:8080/"
        },
        "id": "IEKdEkinbKoO",
        "outputId": "1fccb6b9-347d-40aa-fb94-b6a03c8a2daa"
      },
      "execution_count": 21,
      "outputs": [
        {
          "output_type": "stream",
          "name": "stdout",
          "text": [
            "['Mango', 'Apple', 'Pear', 11, 12, 88, 99]\n",
            "['India', 1947, '15th August', 'India', 1947, '15th August', 'India', 1947, '15th August']\n"
          ]
        }
      ]
    },
    {
      "cell_type": "code",
      "source": [
        "'''10. What is difference between the list methods append() and insert()?\n",
        "\n",
        "append() Method:\n",
        "The append() method is used to add an element to the end of the list.\n",
        "It takes one argument, which is the element to be added.\n",
        "Example:'''\n",
        "M1 = [1,5,9,6,11]\n",
        "M1.append(15)\n",
        "print(M1)\n",
        "\n",
        "'''insert() Method:\n",
        "The insert() method is used to insert an element at a specified position in the list.\n",
        "It takes two arguments: the index where the element should be inserted and the element itself.\n",
        "Example:'''\n",
        "M2 = [1,5,9,6,11]\n",
        "M2.insert(3,15)\n",
        "print(M2)\n",
        "\n",
        "'''The main difference is in where the elements are added. append() adds elements to the end of the list,\n",
        "while insert() allows you to specify the position where the element should be inserted'''"
      ],
      "metadata": {
        "colab": {
          "base_uri": "https://localhost:8080/",
          "height": 88
        },
        "id": "q0exPlUkdN03",
        "outputId": "2469dd9c-8cb9-4009-c9cb-1f434dd3043d"
      },
      "execution_count": 26,
      "outputs": [
        {
          "output_type": "stream",
          "name": "stdout",
          "text": [
            "[1, 5, 9, 6, 11, 15]\n",
            "[1, 5, 9, 15, 6, 11]\n"
          ]
        },
        {
          "output_type": "execute_result",
          "data": {
            "text/plain": [
              "'The main difference is in where the elements are added. append() adds elements to the end of the list,\\nwhile insert() allows you to specify the position where the element should be inserted'"
            ],
            "application/vnd.google.colaboratory.intrinsic+json": {
              "type": "string"
            }
          },
          "metadata": {},
          "execution_count": 26
        }
      ]
    },
    {
      "cell_type": "code",
      "source": [
        "'''11. What are the two methods for removing items from a list?\n",
        "remove() Method:\n",
        "The remove() method is used to remove the first occurrence of a specified value from the list.\n",
        "It takes one argument, which is the value you want to remove.\n",
        "Example:'''\n",
        "my_list = ['p','r','o','g','r','a','m','i','z']\n",
        "my_list.remove('r')\n",
        "print(my_list)\n",
        "\n",
        "'''pop() Method:\n",
        "The pop() method is used to remove an element from a specific index in the list and return its value.\n",
        "It takes one optional argument, which is the index of the element to be removed. If no index is provided,by default it removes and returns the last element.\n",
        "Example:'''\n",
        "my_list = [1,2,3,4,5,6,7,8]\n",
        "my_list.pop(5)\n",
        "print(my_list)\n",
        "my_list.pop()\n",
        "print(my_list)"
      ],
      "metadata": {
        "colab": {
          "base_uri": "https://localhost:8080/"
        },
        "id": "prdNPKHzhcKK",
        "outputId": "431e569b-c152-44c2-c3c8-55827bef2a3c"
      },
      "execution_count": 32,
      "outputs": [
        {
          "output_type": "stream",
          "name": "stdout",
          "text": [
            "['p', 'o', 'g', 'r', 'a', 'm', 'i', 'z']\n",
            "[1, 2, 3, 4, 5, 7, 8]\n",
            "[1, 2, 3, 4, 5, 7]\n"
          ]
        }
      ]
    },
    {
      "cell_type": "code",
      "source": [
        "'''12. Describe how list values and string values are identical.\n",
        "Lists and strings in Python share some similarities, but they are distinct data types with different characteristics.\n",
        "Here are some ways in which list values and string values are similar:\n",
        "Both lists and strings can be passed to len()\n",
        "Have indexes and slices\n",
        "Can be used in for loops\n",
        "Can be concatenated or replicated\n",
        "Can be used with the in and not in operators'''"
      ],
      "metadata": {
        "id": "Zpj7fp5kk89t"
      },
      "execution_count": null,
      "outputs": []
    },
    {
      "cell_type": "code",
      "source": [
        "'''13. What's the difference between tuples and lists?\n",
        "Mutability:\n",
        "The main difference between tuples and lists is mutability.\n",
        "Lists are mutable, meaning their elements can be modified after the list is created. You can add, remove, or change elements in a list.\n",
        "Tuples, on the other hand, are immutable. Once a tuple is created, you cannot modify its elements. You cannot add, remove, or change elements in a tuple.\n",
        "\n",
        "Syntax:\n",
        "Lists are defined using square brackets [].\n",
        "Tuples are defined using parentheses ().\n",
        "\n",
        "Methods:\n",
        "Lists have more built-in methods compared to tuples because of their mutability.Common methods include append(), extend(), remove(), and pop().\n",
        "Tuples have fewer methods, primarily because they are immutable. Tuples support methods like count() and index().\n",
        "\n",
        "Memory Usage:\n",
        "Tuples tend to use less memory than lists, which can be an important consideration in some applications.'''"
      ],
      "metadata": {
        "id": "uuSStJePmUF6"
      },
      "execution_count": null,
      "outputs": []
    },
    {
      "cell_type": "code",
      "source": [
        "#14. How do you type a tuple value that only contains the integer 42?\n",
        "my_tuple = (42,)\n",
        "'''The trailing comma is essential here. Without the comma,\n",
        " Python would interpret the parentheses differently and treat them as regular parentheses around an expression.\n",
        "So, (42,) is a tuple with a single element (the integer 42), while (42) would be treated as an integer in parentheses.'''"
      ],
      "metadata": {
        "id": "2qKldPZDpCYF"
      },
      "execution_count": null,
      "outputs": []
    },
    {
      "cell_type": "code",
      "source": [
        "#15. How do you get a list value's tuple form? How do you get a tuple value's list form?\n",
        "a=(1,2,3,4,5)\n",
        "b=['a','b','c','d','e']\n",
        "print(\"a=\",a,\"b=\",b)\n",
        "print(\"a=\",type(a))\n",
        "print(\"b=\",type(b))\n",
        "\n",
        "c=list(a)  #list() constructor\n",
        "d=tuple(b) #tuple() constructor\n",
        "\n",
        "print(\"c=\",c,\"d=\",d)\n",
        "print(\"c=\",type(c))\n",
        "print(\"d=\",type(d))"
      ],
      "metadata": {
        "colab": {
          "base_uri": "https://localhost:8080/"
        },
        "id": "vLvvDhC5qRci",
        "outputId": "8594f031-0dfa-4761-d490-6a0974c721e3"
      },
      "execution_count": 55,
      "outputs": [
        {
          "output_type": "stream",
          "name": "stdout",
          "text": [
            "a= (1, 2, 3, 4, 5) b= ['a', 'b', 'c', 'd', 'e']\n",
            "a= <class 'tuple'>\n",
            "b= <class 'list'>\n",
            "c= [1, 2, 3, 4, 5] d= ('a', 'b', 'c', 'd', 'e')\n",
            "c= <class 'list'>\n",
            "d= <class 'tuple'>\n"
          ]
        }
      ]
    },
    {
      "cell_type": "code",
      "source": [
        "'''16. Variables that \"contain\" list values are not necessarily lists themselves. Instead, what do they contain?\n",
        "\n",
        "Variables that contain list values actually contain references or pointers to the list objects in memory.\n",
        "When we assign a list to a variable, the variable doesn't directly store the entire list's contents but rather holds a reference to the memory location\n",
        "where the list is stored. This reference allows us to access and manipulate the list through the variable.'''"
      ],
      "metadata": {
        "id": "GYUfhX0Uq221"
      },
      "execution_count": null,
      "outputs": []
    },
    {
      "cell_type": "code",
      "source": [
        "'''17. How do you distinguish between copy.copy() and copy.deepcopy()?\n",
        "\n",
        "copy.copy() performs a shallow copy, creating a new object with references to the same nested objects.\n",
        "Changes to the top-level object are independent, but changes to mutable objects inside the original can affect the shallow copy and vice versa\n",
        "\n",
        "copy.deepcopy() performs a deep copy, creating a new object with new instances of all nested objects, recursively.\n",
        "Changes to the original or the deep copy do not affect each other, as they are entirely independent.'''"
      ],
      "metadata": {
        "id": "eFUbWQwIv4CP"
      },
      "execution_count": null,
      "outputs": []
    }
  ]
}